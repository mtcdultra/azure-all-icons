{
 "cells": [
  {
   "cell_type": "code",
   "execution_count": 2,
   "metadata": {},
   "outputs": [
    {
     "name": "stdout",
     "output_type": "stream",
     "text": [
      "Caminhos dos arquivos salvos em 'caminhos_dos_arquivos.json'\n"
     ]
    }
   ],
   "source": [
    "import os\n",
    "import json\n",
    "\n",
    "def listar_arquivos(diretorio):\n",
    "    # Lista para armazenar os caminhos dos arquivos e suas categorias\n",
    "    caminhos_dos_arquivos = []\n",
    "\n",
    "    # Percorre todos os diretórios e arquivos na árvore de diretórios a partir do diretório raiz\n",
    "    for root, dirs, files in os.walk(diretorio):\n",
    "        for file in files:\n",
    "            # Exclui o arquivo .DS_Store se encontrado\n",
    "            if file == '.DS_Store':\n",
    "                os.remove(os.path.join(root, file))\n",
    "                continue\n",
    "\n",
    "            # Constrói o caminho completo para o arquivo\n",
    "            caminho_completo = os.path.join(root, file)\n",
    "            \n",
    "            # Obtém a categoria (nome da subpasta imediatamente após 'Icons')\n",
    "            relative_path = os.path.relpath(caminho_completo, diretorio)\n",
    "            parts = relative_path.split(os.sep)\n",
    "            category = parts[0].capitalize() if len(parts) > 1 else \"\"\n",
    "\n",
    "            # Extrai o product_name a partir do nome do arquivo\n",
    "            product_name = \"\"\n",
    "            if \"-icon-service-\" in file:\n",
    "                product_name = file.split(\"-icon-service-\")[1].replace(\".svg\", \"\").replace(\"-\", \" \")\n",
    "            \n",
    "            # Adiciona o caminho, categoria e product_name à lista\n",
    "            caminhos_dos_arquivos.append({\n",
    "                \"folder\": caminho_completo,\n",
    "                \"category\": category,\n",
    "                \"product_name\": product_name\n",
    "            })\n",
    "\n",
    "    return caminhos_dos_arquivos\n",
    "\n",
    "# Define o diretório inicial\n",
    "diretorio_inicial = 'static/Icons'\n",
    "\n",
    "# Chama a função para listar arquivos\n",
    "caminhos_dos_arquivos = listar_arquivos(diretorio_inicial)\n",
    "\n",
    "# Salva a lista de caminhos dos arquivos em um arquivo JSON\n",
    "with open('products.json', 'w') as json_file:\n",
    "    json.dump(caminhos_dos_arquivos, json_file, indent=4)\n",
    "\n",
    "print(\"Caminhos dos arquivos salvos em 'caminhos_dos_arquivos.json'\")\n"
   ]
  },
  {
   "cell_type": "code",
   "execution_count": null,
   "metadata": {},
   "outputs": [],
   "source": []
  }
 ],
 "metadata": {
  "kernelspec": {
   "display_name": ".venv",
   "language": "python",
   "name": "python3"
  },
  "language_info": {
   "codemirror_mode": {
    "name": "ipython",
    "version": 3
   },
   "file_extension": ".py",
   "mimetype": "text/x-python",
   "name": "python",
   "nbconvert_exporter": "python",
   "pygments_lexer": "ipython3",
   "version": "3.11.7"
  }
 },
 "nbformat": 4,
 "nbformat_minor": 2
}
